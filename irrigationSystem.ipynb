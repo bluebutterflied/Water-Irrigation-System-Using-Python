{
 "cells": [
  {
   "cell_type": "code",
   "execution_count": 23,
   "metadata": {
    "scrolled": true
   },
   "outputs": [
    {
     "name": "stdout",
     "output_type": "stream",
     "text": [
      "\n",
      "Your Input Is Wrong\n",
      "The TypeError Occured. Makesure You Are Inputing The Correct Value.\n"
     ]
    }
   ],
   "source": [
    "import random\n",
    "import logging\n",
    "logging.basicConfig(filename='example1.log', level=logging.DEBUG)\n",
    "class waterSystem():\n",
    "    def __init__(self,min,max):\n",
    "        try:\n",
    "            if(min>=max):\n",
    "                raise ValueError\n",
    "            self.min=min\n",
    "            self.max=max\n",
    "        except ValueError as e:\n",
    "            print(e)\n",
    "            #self.min=0\n",
    "            #self.max=100\n",
    "        self.moistLvl=self.generateV()\n",
    "    def Detection(self):\n",
    "        try:\n",
    "            if(self.moistLvl<30):\n",
    "                self.waterStart()\n",
    "                #testV()\n",
    "            elif(self.moistLvl>30 and self.moistLvl<60):\n",
    "                self.waterContinue()\n",
    "            else:\n",
    "                self.waterOff()\n",
    "        except TypeError as e:\n",
    "            print(\"The TypeError Occured. Makesure You Are Inputing The Correct Value.\")\n",
    "            logging.debug('The TypeError Occured. Makesure You Are Inputing The Correct Value.')\n",
    "        except ValueError as e:\n",
    "            print(\"The ValueError Occured. Makesure You Are Inputing The Correct Value.\")\n",
    "            logging.debug('The ValueError Occured. Makesure You Are Inputing The Correct Value.')\n",
    "        except ZeroDivisionError as e:\n",
    "            print(\"The ZeroDivsionError Occured. Makesure You Are Not Dividing By 10.\")\n",
    "            logging.debug('The ZeroDivsionError Occured. Makesure You Are Not Dividing By 10.')\n",
    "        except Exception as e:\n",
    "            k=str(e)\n",
    "            k=k.title()\n",
    "            print(\"You Are Doing Something Wrong\",'\\n',\"Error Type Is:\",e)\n",
    "            logging.debug('You Are Doing Something Wrong','\\n','Error Type Is:',e)\n",
    "    def waterStart(self):\n",
    "        print(\"Soil Is Dry. Turning On The Water System\")\n",
    "        print(\"Water System Is Turned On\")\n",
    "        logging.debug(\"Soil Is Dry. Turning On The Water System\")\n",
    "        logging.debug(\"Water System Is Turned On\")\n",
    "    def waterOff(self):\n",
    "        print(\"Soil Is Wet. Turning Off The Water System\")\n",
    "        print(\"Water System Is Turned Off\")\n",
    "        logging.debug(\"Soil Is Wet. Turning Off The Water System\")\n",
    "        logging.debug(\"Water System Is Turned Off\")\n",
    "    def waterContinue(self):\n",
    "        print(\"Soil Is Moist. Continue Supplying The Water\")\n",
    "        print(\"Water System Is Continue\")\n",
    "        logging.debug(\"Soil Is Moist. Continue Supplying The Water\")\n",
    "        logging.debug(\"Water System Is Continue\")\n",
    "    def testV(self):\n",
    "        print(self.moistLvl)\n",
    "    def generateV(self):\n",
    "        try:\n",
    "            if(self.min>=self.max):\n",
    "                raise ValueError(\"The Minimum Value Is Greater Than The Smaller Value.\")\n",
    "                logging.debug('The Minimum Value Is Greater Than The Smaller Value.')\n",
    "            rNo=random.randint(self.min,self.max)\n",
    "            return rNo\n",
    "        except:\n",
    "            print(\"Your Input Is Wrong\")\n",
    "            logging.debug('Your Input Is Wrong')\n",
    "wSystem=waterSystem(1,100)\n",
    "wSystem.Detection()\n",
    "#wSystem.testV()"
   ]
  },
  {
   "cell_type": "markdown",
   "metadata": {},
   "source": [
    "# Logging"
   ]
  },
  {
   "cell_type": "code",
   "execution_count": null,
   "metadata": {},
   "outputs": [],
   "source": [
    "import logging\n",
    "logging.basicConfig(filename='example.log',level=logging.DEBUG)\n",
    "logging.debug(\"This is a Debug Message\")"
   ]
  },
  {
   "cell_type": "code",
   "execution_count": null,
   "metadata": {},
   "outputs": [],
   "source": [
    "import logging\n",
    "\n",
    "# Configure the logging system\n",
    "logging.basicConfig(filename='example.log', level=logging.DEBUG)\n",
    "\n",
    "# Example logging statements\n",
    "logging.debug('This is a debug message')\n",
    "logging.info('This is an informational message')\n",
    "logging.warning('This is a warning message')\n",
    "logging.error('This is an error message')\n",
    "logging.critical('This is a critical message')"
   ]
  },
  {
   "cell_type": "code",
   "execution_count": null,
   "metadata": {},
   "outputs": [],
   "source": []
  }
 ],
 "metadata": {
  "kernelspec": {
   "display_name": "Python 3",
   "language": "python",
   "name": "python3"
  },
  "language_info": {
   "codemirror_mode": {
    "name": "ipython",
    "version": 3
   },
   "file_extension": ".py",
   "mimetype": "text/x-python",
   "name": "python",
   "nbconvert_exporter": "python",
   "pygments_lexer": "ipython3",
   "version": "3.8.10"
  }
 },
 "nbformat": 4,
 "nbformat_minor": 4
}
